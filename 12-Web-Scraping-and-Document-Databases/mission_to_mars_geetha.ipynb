{
 "cells": [
  {
   "cell_type": "markdown",
   "metadata": {},
   "source": [
    "<h2>Step 1: Scraping<h2>"
   ]
  },
  {
   "cell_type": "markdown",
   "metadata": {},
   "source": [
    "<h3>NASA Mars News</h3>"
   ]
  },
  {
   "cell_type": "code",
   "execution_count": 1,
   "metadata": {},
   "outputs": [],
   "source": [
    "from requests import get\n",
    "from requests.exceptions import RequestException\n",
    "from contextlib import closing\n",
    "from bs4 import BeautifulSoup\n",
    "import requests\n",
    "import os\n",
    "import pandas as pd\n",
    "from splinter import Browser\n",
    "import time\n",
    "from selenium import webdriver\n",
    "from selenium.webdriver import ActionChains\n",
    "from selenium.webdriver import Chrome\n",
    "from selenium.webdriver.chrome.options import Options\n",
    "from splinter.driver.webdriver import BaseWebDriver, WebDriverElement"
   ]
  },
  {
   "cell_type": "markdown",
   "metadata": {},
   "source": [
    "<h3>Code assuming you want all the articles (WRONG!!!!)</h3>"
   ]
  },
  {
   "cell_type": "code",
   "execution_count": 5,
   "metadata": {},
   "outputs": [
    {
     "name": "stdout",
     "output_type": "stream",
     "text": [
      "<selenium.webdriver.remote.webelement.WebElement (session=\"df953eed3cf07fbf2c897e60a2d7af51\", element=\"e97ff51d-e5a6-48de-b1fb-9ae261b9503c\")>\n",
      "Click: 1\n",
      "Click: 2\n",
      "Click: 3\n",
      "Click: 4\n",
      "Click: 5\n",
      "Click: 6\n",
      "Click: 7\n",
      "Click: 8\n",
      "Click: 9\n",
      "Click: 10\n",
      "Click: 11\n",
      "Click: 12\n",
      "Click: 13\n",
      "Click: 14\n",
      "Click: 15\n",
      "Click: 16\n",
      "Click: 17\n",
      "Click: 18\n",
      "Click: 19\n",
      "Click: 20\n",
      "Click: 21\n",
      "Click: 22\n",
      "Click: 23\n",
      "Click: 24\n",
      "Click: 25\n",
      "Click: 26\n",
      "Click: 27\n",
      "Click: 28\n",
      "Click: 29\n",
      "Click: 30\n",
      "Click: 31\n",
      "Click: 32\n",
      "Click: 33\n",
      "Click: 34\n",
      "Click: 35\n",
      "Click: 36\n",
      "Click: 37\n",
      "Click: 38\n",
      "Click: 39\n",
      "Click: 40\n",
      "Click: 41\n",
      "Click: 42\n",
      "Click: 43\n",
      "Click: 44\n",
      "Click: 45\n",
      "Click: 46\n",
      "Click: 47\n",
      "Clicking Complete\n"
     ]
    }
   ],
   "source": [
    "#THIS was TOTALLY unnecessary but it took me a while to learn so I am leaving it in (I thought we were supposed to scrape all of the articles)\n",
    "#Click to expand the web page to show all the articles\n",
    "driver = webdriver.Chrome('./chromedriver.exe')\n",
    "url = 'https://mars.nasa.gov/news/'\n",
    "counter = 0 \n",
    "driver.get(url)\n",
    "\n",
    "python_button = driver.find_elements_by_xpath(\"//*[text()='More']\")\n",
    "print(python_button[1])\n",
    "\n",
    "for x in range(100):\n",
    "    try: \n",
    "        if python_button[1].is_displayed():\n",
    "            counter = counter + 1\n",
    "            print(\"Click: \" + str(counter))\n",
    "            python_button[1].click()\n",
    "            time.sleep(4)\n",
    "        else:\n",
    "            break\n",
    "    except:\n",
    "        print(\"Clicking Complete\")\n",
    "        break"
   ]
  },
  {
   "cell_type": "code",
   "execution_count": null,
   "metadata": {},
   "outputs": [],
   "source": [
    "#THIS was TOTALLY unnecessary but it took me a while to learn so I am leaving it in (I thought we were supposed to scrape all of the articles)\n",
    "#Grab all the article info and put into dataframe\n",
    "html =  driver.page_source\n",
    "soup = BeautifulSoup(html, 'html.parser')\n",
    "articles = soup.find_all('div', class_='list_text')\n",
    "a_title = []\n",
    "a_desc = []\n",
    "a_date = []\n",
    "\n",
    "for article in articles:\n",
    "    title = article.find('div', class_=\"content_title\")\n",
    "    desc = article.find('div', class_=\"article_teaser_body\")\n",
    "    date = article.find('div', class_=\"list_date\")\n",
    "    print('*-*-*-*-*-*-*-*-*')\n",
    "    print(title.text)\n",
    "    a_title.append(title.text)\n",
    "    print(desc.text)\n",
    "    a_desc.append(desc.text)\n",
    "    print(date.text)\n",
    "    a_date.append(date.text)\n",
    "    \n",
    "print(\"Scraping Complete\")\n",
    "        \n"
   ]
  },
  {
   "cell_type": "code",
   "execution_count": 4,
   "metadata": {},
   "outputs": [
    {
     "data": {
      "text/html": [
       "<div>\n",
       "<style scoped>\n",
       "    .dataframe tbody tr th:only-of-type {\n",
       "        vertical-align: middle;\n",
       "    }\n",
       "\n",
       "    .dataframe tbody tr th {\n",
       "        vertical-align: top;\n",
       "    }\n",
       "\n",
       "    .dataframe thead th {\n",
       "        text-align: right;\n",
       "    }\n",
       "</style>\n",
       "<table border=\"1\" class=\"dataframe\">\n",
       "  <thead>\n",
       "    <tr style=\"text-align: right;\">\n",
       "      <th></th>\n",
       "      <th>Article Title</th>\n",
       "      <th>Article Description</th>\n",
       "      <th>Article Date</th>\n",
       "    </tr>\n",
       "  </thead>\n",
       "  <tbody>\n",
       "    <tr>\n",
       "      <th>0</th>\n",
       "      <td>Space Samples Link NASA's Apollo 11 and Mars 2020</td>\n",
       "      <td>While separated by half a century, NASA's Apol...</td>\n",
       "      <td>August 13, 2019</td>\n",
       "    </tr>\n",
       "    <tr>\n",
       "      <th>1</th>\n",
       "      <td>Small Satellite Mission of the Year</td>\n",
       "      <td>The first interplanetary CubeSats were recogni...</td>\n",
       "      <td>August  9, 2019</td>\n",
       "    </tr>\n",
       "    <tr>\n",
       "      <th>2</th>\n",
       "      <td>NASA 'Optometrists' Verify Mars 2020 Rover's 2...</td>\n",
       "      <td>Mars 2020 rover underwent an eye exam after se...</td>\n",
       "      <td>August  5, 2019</td>\n",
       "    </tr>\n",
       "    <tr>\n",
       "      <th>3</th>\n",
       "      <td>New Finds for Mars Rover, Seven Years After La...</td>\n",
       "      <td>NASA's Curiosity rover is discovering odd rock...</td>\n",
       "      <td>August  5, 2019</td>\n",
       "    </tr>\n",
       "    <tr>\n",
       "      <th>4</th>\n",
       "      <td>MEDLI2 Installation on Mars 2020 Aeroshell Begins</td>\n",
       "      <td>Hardware installed onto NASA's Mars 2020 entry...</td>\n",
       "      <td>August  3, 2019</td>\n",
       "    </tr>\n",
       "    <tr>\n",
       "      <th>5</th>\n",
       "      <td>NASA's Mars 2020 Rover Does Biceps Curls</td>\n",
       "      <td>In this time-lapse video, the robotic arm on N...</td>\n",
       "      <td>July 26, 2019</td>\n",
       "    </tr>\n",
       "    <tr>\n",
       "      <th>6</th>\n",
       "      <td>Fueling of NASA's Mars 2020 Rover Power System...</td>\n",
       "      <td>NASA gives the go-ahead to fuel the Mars 2020 ...</td>\n",
       "      <td>July 24, 2019</td>\n",
       "    </tr>\n",
       "    <tr>\n",
       "      <th>7</th>\n",
       "      <td>What Does a Marsquake Look Like?</td>\n",
       "      <td>InSight scientists used a special \"shake room\"...</td>\n",
       "      <td>July 22, 2019</td>\n",
       "    </tr>\n",
       "    <tr>\n",
       "      <th>8</th>\n",
       "      <td>Mars 2020 Rover: T-Minus One Year and Counting</td>\n",
       "      <td>The launch period for NASA's next rover, Mars ...</td>\n",
       "      <td>July 17, 2019</td>\n",
       "    </tr>\n",
       "    <tr>\n",
       "      <th>9</th>\n",
       "      <td>NASA Racks Up Two Emmy Nominations for Mission...</td>\n",
       "      <td>JPL's coverage of the Mars InSight mission is ...</td>\n",
       "      <td>July 16, 2019</td>\n",
       "    </tr>\n",
       "    <tr>\n",
       "      <th>10</th>\n",
       "      <td>Want to Colonize Mars? Aerogel Could Help</td>\n",
       "      <td>Researchers are studying whether a wonder mate...</td>\n",
       "      <td>July 15, 2019</td>\n",
       "    </tr>\n",
       "    <tr>\n",
       "      <th>11</th>\n",
       "      <td>A Rover Pit Stop at JPL</td>\n",
       "      <td>Working like a finely honed machine, a team of...</td>\n",
       "      <td>July 12, 2019</td>\n",
       "    </tr>\n",
       "    <tr>\n",
       "      <th>12</th>\n",
       "      <td>Mars 2020 Rover Gets a Super Instrument</td>\n",
       "      <td>With its rock-zapping laser, the SuperCam will...</td>\n",
       "      <td>July  2, 2019</td>\n",
       "    </tr>\n",
       "    <tr>\n",
       "      <th>13</th>\n",
       "      <td>A Neil Armstrong for Mars: Landing the Mars 20...</td>\n",
       "      <td>NASA's newest rover will have an autopilot cal...</td>\n",
       "      <td>July  1, 2019</td>\n",
       "    </tr>\n",
       "    <tr>\n",
       "      <th>14</th>\n",
       "      <td>NASA's InSight Uncovers the 'Mole'</td>\n",
       "      <td>The lander's robotic arm has successfully remo...</td>\n",
       "      <td>July  1, 2019</td>\n",
       "    </tr>\n",
       "    <tr>\n",
       "      <th>15</th>\n",
       "      <td>Mars 2020 Rover's 7-Foot-Long Robotic Arm Inst...</td>\n",
       "      <td>The main robotic arm has been installed on NAS...</td>\n",
       "      <td>June 28, 2019</td>\n",
       "    </tr>\n",
       "    <tr>\n",
       "      <th>16</th>\n",
       "      <td>NASA Selects Partners for Mars 2020 'Name the ...</td>\n",
       "      <td>The contest for U.S. schoolchildren will open ...</td>\n",
       "      <td>June 25, 2019</td>\n",
       "    </tr>\n",
       "    <tr>\n",
       "      <th>17</th>\n",
       "      <td>Curiosity's Mars Methane Mystery Continues</td>\n",
       "      <td>The Curiosity rover’s follow-on sampling shows...</td>\n",
       "      <td>June 24, 2019</td>\n",
       "    </tr>\n",
       "    <tr>\n",
       "      <th>18</th>\n",
       "      <td>Mars 2020 Rover Gets Its Wheels</td>\n",
       "      <td>With the mobility suspension in place, the rov...</td>\n",
       "      <td>June 20, 2019</td>\n",
       "    </tr>\n",
       "    <tr>\n",
       "      <th>19</th>\n",
       "      <td>The Mast Is Raised for NASA's Mars 2020 Rover</td>\n",
       "      <td>Engineers at JPL take a group selfie after att...</td>\n",
       "      <td>June 14, 2019</td>\n",
       "    </tr>\n",
       "    <tr>\n",
       "      <th>20</th>\n",
       "      <td>NASA's Mars 2020 Will Blaze a Trail — for Humans</td>\n",
       "      <td>The next robotic Mars mission will carry techn...</td>\n",
       "      <td>June 12, 2019</td>\n",
       "    </tr>\n",
       "    <tr>\n",
       "      <th>21</th>\n",
       "      <td>Johnson-Built Device to Help Mars 2020 Rover S...</td>\n",
       "      <td>NASA’s Johnson Space Center (JSC) recently bui...</td>\n",
       "      <td>June 11, 2019</td>\n",
       "    </tr>\n",
       "    <tr>\n",
       "      <th>22</th>\n",
       "      <td>Watch NASA Build Its Next Mars Rover</td>\n",
       "      <td>A newly installed webcam offers the public a l...</td>\n",
       "      <td>June  6, 2019</td>\n",
       "    </tr>\n",
       "    <tr>\n",
       "      <th>23</th>\n",
       "      <td>NASA's Mars Helicopter Testing Enters Final Phase</td>\n",
       "      <td>NASA's Mars Helicopter flight demonstration pr...</td>\n",
       "      <td>June  6, 2019</td>\n",
       "    </tr>\n",
       "    <tr>\n",
       "      <th>24</th>\n",
       "      <td>InSight's Team Tries New Strategy to Help the ...</td>\n",
       "      <td>The spacecraft's robotic arm will lift the hea...</td>\n",
       "      <td>June  5, 2019</td>\n",
       "    </tr>\n",
       "    <tr>\n",
       "      <th>25</th>\n",
       "      <td>Common Questions about InSight's 'Mole'</td>\n",
       "      <td>There's a new plan to get InSight's \"mole\" mov...</td>\n",
       "      <td>June  5, 2019</td>\n",
       "    </tr>\n",
       "    <tr>\n",
       "      <th>26</th>\n",
       "      <td>NASA's Curiosity Mars Rover Finds a Clay Cache</td>\n",
       "      <td>The rover recently drilled two samples, and bo...</td>\n",
       "      <td>May 29, 2019</td>\n",
       "    </tr>\n",
       "    <tr>\n",
       "      <th>27</th>\n",
       "      <td>NASA to Land in Mars, Pennsylvania to Celebrat...</td>\n",
       "      <td>NASA returns to Mars, Pennsylvania Friday, May...</td>\n",
       "      <td>May 23, 2019</td>\n",
       "    </tr>\n",
       "    <tr>\n",
       "      <th>28</th>\n",
       "      <td>NASA's Mars 2020 Gets a Dose of Space Here on ...</td>\n",
       "      <td>NASA's Mars 2020 spacecraft has completed test...</td>\n",
       "      <td>May 23, 2019</td>\n",
       "    </tr>\n",
       "    <tr>\n",
       "      <th>29</th>\n",
       "      <td>NASA Invites Public to Submit Names to Fly Abo...</td>\n",
       "      <td>From now till Sept. 30, the public can submit ...</td>\n",
       "      <td>May 21, 2019</td>\n",
       "    </tr>\n",
       "    <tr>\n",
       "      <th>30</th>\n",
       "      <td>NASA's MRO Completes 60,000 Trips Around Mars</td>\n",
       "      <td>The orbiting spacecraft is also about to set a...</td>\n",
       "      <td>May 15, 2019</td>\n",
       "    </tr>\n",
       "    <tr>\n",
       "      <th>31</th>\n",
       "      <td>Video: Fly over Mount Sharp on Mars</td>\n",
       "      <td>A new animation shows the region NASA's Curios...</td>\n",
       "      <td>May 15, 2019</td>\n",
       "    </tr>\n",
       "    <tr>\n",
       "      <th>32</th>\n",
       "      <td>Why This Martian Full Moon Looks Like Candy</td>\n",
       "      <td>For the first time, NASA's Mars Odyssey orbite...</td>\n",
       "      <td>May  9, 2019</td>\n",
       "    </tr>\n",
       "    <tr>\n",
       "      <th>33</th>\n",
       "      <td>For InSight, Dust Cleanings Will Yield New Sci...</td>\n",
       "      <td>Wind can be crucial to clearing dust from spac...</td>\n",
       "      <td>May  6, 2019</td>\n",
       "    </tr>\n",
       "    <tr>\n",
       "      <th>34</th>\n",
       "      <td>InSight Captures Sunrise and Sunset on Mars</td>\n",
       "      <td>InSight joins the rest of NASA's Red Planet su...</td>\n",
       "      <td>May  1, 2019</td>\n",
       "    </tr>\n",
       "    <tr>\n",
       "      <th>35</th>\n",
       "      <td>NASA Social Media and Websites Win Webby Awards</td>\n",
       "      <td>NASA's social media presence, the InSight miss...</td>\n",
       "      <td>April 23, 2019</td>\n",
       "    </tr>\n",
       "    <tr>\n",
       "      <th>36</th>\n",
       "      <td>NASA's InSight Detects First Likely 'Quake' on...</td>\n",
       "      <td>While their causes are still unknown, one of t...</td>\n",
       "      <td>April 23, 2019</td>\n",
       "    </tr>\n",
       "    <tr>\n",
       "      <th>37</th>\n",
       "      <td>Things Are Stacking up for NASA's Mars 2020 Sp...</td>\n",
       "      <td>As the July 2020 launch date inches closer, th...</td>\n",
       "      <td>April 18, 2019</td>\n",
       "    </tr>\n",
       "    <tr>\n",
       "      <th>38</th>\n",
       "      <td>Curiosity Tastes First Sample in 'Clay-Bearing...</td>\n",
       "      <td>This new region on Mars might reveal more abou...</td>\n",
       "      <td>April 11, 2019</td>\n",
       "    </tr>\n",
       "    <tr>\n",
       "      <th>39</th>\n",
       "      <td>More Testing for Mars InSight's 'Mole'</td>\n",
       "      <td>After the mission's heat probe began hammering...</td>\n",
       "      <td>April 11, 2019</td>\n",
       "    </tr>\n",
       "  </tbody>\n",
       "</table>\n",
       "</div>"
      ],
      "text/plain": [
       "                                        Article Title  \\\n",
       "0   Space Samples Link NASA's Apollo 11 and Mars 2020   \n",
       "1                 Small Satellite Mission of the Year   \n",
       "2   NASA 'Optometrists' Verify Mars 2020 Rover's 2...   \n",
       "3   New Finds for Mars Rover, Seven Years After La...   \n",
       "4   MEDLI2 Installation on Mars 2020 Aeroshell Begins   \n",
       "5           NASA's Mars 2020 Rover Does Biceps Curls    \n",
       "6   Fueling of NASA's Mars 2020 Rover Power System...   \n",
       "7                    What Does a Marsquake Look Like?   \n",
       "8     Mars 2020 Rover: T-Minus One Year and Counting    \n",
       "9   NASA Racks Up Two Emmy Nominations for Mission...   \n",
       "10          Want to Colonize Mars? Aerogel Could Help   \n",
       "11                            A Rover Pit Stop at JPL   \n",
       "12            Mars 2020 Rover Gets a Super Instrument   \n",
       "13  A Neil Armstrong for Mars: Landing the Mars 20...   \n",
       "14                NASA's InSight Uncovers the 'Mole'    \n",
       "15  Mars 2020 Rover's 7-Foot-Long Robotic Arm Inst...   \n",
       "16  NASA Selects Partners for Mars 2020 'Name the ...   \n",
       "17         Curiosity's Mars Methane Mystery Continues   \n",
       "18                    Mars 2020 Rover Gets Its Wheels   \n",
       "19      The Mast Is Raised for NASA's Mars 2020 Rover   \n",
       "20   NASA's Mars 2020 Will Blaze a Trail — for Humans   \n",
       "21  Johnson-Built Device to Help Mars 2020 Rover S...   \n",
       "22               Watch NASA Build Its Next Mars Rover   \n",
       "23  NASA's Mars Helicopter Testing Enters Final Phase   \n",
       "24  InSight's Team Tries New Strategy to Help the ...   \n",
       "25            Common Questions about InSight's 'Mole'   \n",
       "26     NASA's Curiosity Mars Rover Finds a Clay Cache   \n",
       "27  NASA to Land in Mars, Pennsylvania to Celebrat...   \n",
       "28  NASA's Mars 2020 Gets a Dose of Space Here on ...   \n",
       "29  NASA Invites Public to Submit Names to Fly Abo...   \n",
       "30      NASA's MRO Completes 60,000 Trips Around Mars   \n",
       "31                Video: Fly over Mount Sharp on Mars   \n",
       "32        Why This Martian Full Moon Looks Like Candy   \n",
       "33  For InSight, Dust Cleanings Will Yield New Sci...   \n",
       "34        InSight Captures Sunrise and Sunset on Mars   \n",
       "35   NASA Social Media and Websites Win Webby Awards    \n",
       "36  NASA's InSight Detects First Likely 'Quake' on...   \n",
       "37  Things Are Stacking up for NASA's Mars 2020 Sp...   \n",
       "38  Curiosity Tastes First Sample in 'Clay-Bearing...   \n",
       "39             More Testing for Mars InSight's 'Mole'   \n",
       "\n",
       "                                  Article Description     Article Date  \n",
       "0   While separated by half a century, NASA's Apol...  August 13, 2019  \n",
       "1   The first interplanetary CubeSats were recogni...  August  9, 2019  \n",
       "2   Mars 2020 rover underwent an eye exam after se...  August  5, 2019  \n",
       "3   NASA's Curiosity rover is discovering odd rock...  August  5, 2019  \n",
       "4   Hardware installed onto NASA's Mars 2020 entry...  August  3, 2019  \n",
       "5   In this time-lapse video, the robotic arm on N...    July 26, 2019  \n",
       "6   NASA gives the go-ahead to fuel the Mars 2020 ...    July 24, 2019  \n",
       "7   InSight scientists used a special \"shake room\"...    July 22, 2019  \n",
       "8   The launch period for NASA's next rover, Mars ...    July 17, 2019  \n",
       "9   JPL's coverage of the Mars InSight mission is ...    July 16, 2019  \n",
       "10  Researchers are studying whether a wonder mate...    July 15, 2019  \n",
       "11  Working like a finely honed machine, a team of...    July 12, 2019  \n",
       "12  With its rock-zapping laser, the SuperCam will...    July  2, 2019  \n",
       "13  NASA's newest rover will have an autopilot cal...    July  1, 2019  \n",
       "14  The lander's robotic arm has successfully remo...    July  1, 2019  \n",
       "15  The main robotic arm has been installed on NAS...    June 28, 2019  \n",
       "16  The contest for U.S. schoolchildren will open ...    June 25, 2019  \n",
       "17  The Curiosity rover’s follow-on sampling shows...    June 24, 2019  \n",
       "18  With the mobility suspension in place, the rov...    June 20, 2019  \n",
       "19  Engineers at JPL take a group selfie after att...    June 14, 2019  \n",
       "20  The next robotic Mars mission will carry techn...    June 12, 2019  \n",
       "21  NASA’s Johnson Space Center (JSC) recently bui...    June 11, 2019  \n",
       "22  A newly installed webcam offers the public a l...    June  6, 2019  \n",
       "23  NASA's Mars Helicopter flight demonstration pr...    June  6, 2019  \n",
       "24  The spacecraft's robotic arm will lift the hea...    June  5, 2019  \n",
       "25  There's a new plan to get InSight's \"mole\" mov...    June  5, 2019  \n",
       "26  The rover recently drilled two samples, and bo...     May 29, 2019  \n",
       "27  NASA returns to Mars, Pennsylvania Friday, May...     May 23, 2019  \n",
       "28  NASA's Mars 2020 spacecraft has completed test...     May 23, 2019  \n",
       "29  From now till Sept. 30, the public can submit ...     May 21, 2019  \n",
       "30  The orbiting spacecraft is also about to set a...     May 15, 2019  \n",
       "31  A new animation shows the region NASA's Curios...     May 15, 2019  \n",
       "32  For the first time, NASA's Mars Odyssey orbite...     May  9, 2019  \n",
       "33  Wind can be crucial to clearing dust from spac...     May  6, 2019  \n",
       "34  InSight joins the rest of NASA's Red Planet su...     May  1, 2019  \n",
       "35  NASA's social media presence, the InSight miss...   April 23, 2019  \n",
       "36  While their causes are still unknown, one of t...   April 23, 2019  \n",
       "37  As the July 2020 launch date inches closer, th...   April 18, 2019  \n",
       "38  This new region on Mars might reveal more abou...   April 11, 2019  \n",
       "39  After the mission's heat probe began hammering...   April 11, 2019  "
      ]
     },
     "execution_count": 4,
     "metadata": {},
     "output_type": "execute_result"
    }
   ],
   "source": [
    "d = {'Article Title':a_title,'Article Description':a_desc, 'Article Date':a_date}\n",
    "\n",
    "df = pd.DataFrame(d)\n",
    "df\n"
   ]
  },
  {
   "cell_type": "markdown",
   "metadata": {},
   "source": [
    "<h3>Code assuming just latest article (Right way per instructions)</h3>"
   ]
  },
  {
   "cell_type": "code",
   "execution_count": 2,
   "metadata": {},
   "outputs": [],
   "source": [
    "driver = webdriver.Chrome('./chromedriver.exe')\n",
    "url = 'https://mars.nasa.gov/news/'\n",
    "driver.get(url)"
   ]
  },
  {
   "cell_type": "code",
   "execution_count": 3,
   "metadata": {},
   "outputs": [
    {
     "name": "stdout",
     "output_type": "stream",
     "text": [
      "*-*-*-*-*-*-*-*-*\n",
      "NASA's Curiosity Rover Finds an Ancient Oasis on Mars\n",
      "New evidence suggests salty, shallow ponds once dotted a Martian crater — a sign of the planet's drying climate.\n"
     ]
    }
   ],
   "source": [
    "html =  driver.page_source\n",
    "soup = BeautifulSoup(html, 'html.parser')\n",
    "articles = soup.find('div', class_='list_text')\n",
    "\n",
    "title = articles.find('div', class_=\"content_title\")\n",
    "desc = articles.find('div', class_=\"article_teaser_body\")\n",
    "date = articles.find('div', class_=\"list_date\")\n",
    "print('*-*-*-*-*-*-*-*-*')\n",
    "a_title=title.text\n",
    "print(a_title)\n",
    "a_desc=desc.text\n",
    "print(a_desc)\n",
    "a_date=date.text\n",
    "\n",
    "\n",
    "    "
   ]
  },
  {
   "cell_type": "markdown",
   "metadata": {},
   "source": [
    "<h3> JPL Mars Space Images - Featured Image</h3>"
   ]
  },
  {
   "cell_type": "code",
   "execution_count": 4,
   "metadata": {},
   "outputs": [
    {
     "data": {
      "text/plain": [
       "'https://www.jpl.nasa.gov/spaceimages/images/mediumsize/PIA07137_ip.jpg'"
      ]
     },
     "execution_count": 4,
     "metadata": {},
     "output_type": "execute_result"
    }
   ],
   "source": [
    "executable_path = {'executable_path':'./chromedriver.exe'}\n",
    "browser = Browser('chrome', **executable_path)\n",
    "\n",
    "#browser = Browser(\"chrome\")\n",
    "browser.visit('https://www.jpl.nasa.gov/spaceimages/?search=&category=Mars')\n",
    "button = browser.find_by_xpath(\"//a[@class='button fancybox']\")\n",
    "featured_image_url = \"https://www.jpl.nasa.gov\" + button[\"data-fancybox-href\"]\n",
    "featured_image_url"
   ]
  },
  {
   "cell_type": "markdown",
   "metadata": {},
   "source": [
    "<H3>Mars Weather</H3>"
   ]
  },
  {
   "cell_type": "code",
   "execution_count": 5,
   "metadata": {},
   "outputs": [],
   "source": [
    "# URL of twitter page to be scraped\n",
    "url = 'https://twitter.com/marswxreport?lang=en'\n",
    "\n",
    "# Retrieve page with the requests module\n",
    "response = requests.get(url)\n",
    "# Create BeautifulSoup object; parse with 'lxml'\n",
    "soup = BeautifulSoup(response.text, 'lxml')"
   ]
  },
  {
   "cell_type": "code",
   "execution_count": 15,
   "metadata": {},
   "outputs": [
    {
     "name": "stdout",
     "output_type": "stream",
     "text": [
      "<p class=\"TweetTextSize TweetTextSize--normal js-tweet-text tweet-text\" data-aria-label-part=\"0\" lang=\"en\">InSight sol 313 (2019-10-14) low -101.4ºC (-150.6ºF) high -27.2ºC (-16.9ºF)\n",
      "winds from the SSE at 5.5 m/s (12.4 mph) gusting to 22.5 m/s (50.3 mph)\n",
      "pressure at 7.20 hPa<a class=\"twitter-timeline-link u-hidden\" data-pre-embedded=\"true\" dir=\"ltr\" href=\"https://t.co/2moNAouxXa\">pic.twitter.com/2moNAouxXa</a></p>\n"
     ]
    }
   ],
   "source": [
    "scrapes = soup.find_all(\"div\", class_=\"content\")\n",
    "for scrape in scrapes:\n",
    "   author = scrape.find('strong', class_='fullname show-popup-with-id u-textTruncate')\n",
    "   if author.text == \"Mars Weather\":\n",
    "       weather = scrape.find('p', class_='TweetTextSize TweetTextSize--normal js-tweet-text tweet-text')\n",
    "       break\n",
    "mars_weather = weather.text\n",
    "mars_weather\n",
    "print(weather)"
   ]
  },
  {
   "cell_type": "code",
   "execution_count": 7,
   "metadata": {},
   "outputs": [
    {
     "data": {
      "text/plain": [
       "'InSight sol 313 (2019-10-14) low -101.4ºC (-150.6ºF) high -27.2ºC (-16.9ºF)\\nwinds from the SSE at 5.5 m/s (12.4 mph) gusting to 22.5 m/s (50.3 mph)\\npressure at 7.20 hPapic.twitter.com/2moNAouxXa'"
      ]
     },
     "execution_count": 7,
     "metadata": {},
     "output_type": "execute_result"
    }
   ],
   "source": [
    "results = soup.find_all('div', class_='content')\n",
    "\n",
    "for result in results:\n",
    "    # Retrieve the first tweet\n",
    "    author = result.find('strong', class_='fullname show-popup-with-id u-textTruncate')\n",
    "    if author.text == \"Mars Weather\":\n",
    "        weather = result.find('p', class_='TweetTextSize TweetTextSize--normal js-tweet-text tweet-text')\n",
    "        break\n",
    "\n",
    "mars_weather = weather.text\n",
    "mars_weather\n"
   ]
  },
  {
   "cell_type": "markdown",
   "metadata": {},
   "source": [
    "<h3>Mars Facts</h3>"
   ]
  },
  {
   "cell_type": "code",
   "execution_count": 8,
   "metadata": {},
   "outputs": [
    {
     "data": {
      "text/html": [
       "<div>\n",
       "<style scoped>\n",
       "    .dataframe tbody tr th:only-of-type {\n",
       "        vertical-align: middle;\n",
       "    }\n",
       "\n",
       "    .dataframe tbody tr th {\n",
       "        vertical-align: top;\n",
       "    }\n",
       "\n",
       "    .dataframe thead th {\n",
       "        text-align: right;\n",
       "    }\n",
       "</style>\n",
       "<table border=\"1\" class=\"dataframe\">\n",
       "  <thead>\n",
       "    <tr style=\"text-align: right;\">\n",
       "      <th></th>\n",
       "      <th>Mars Metric</th>\n",
       "      <th>Value</th>\n",
       "    </tr>\n",
       "  </thead>\n",
       "  <tbody>\n",
       "    <tr>\n",
       "      <th>0</th>\n",
       "      <td>Diameter:</td>\n",
       "      <td>6,779 km</td>\n",
       "    </tr>\n",
       "    <tr>\n",
       "      <th>1</th>\n",
       "      <td>Mass:</td>\n",
       "      <td>6.39 × 10^23 kg</td>\n",
       "    </tr>\n",
       "    <tr>\n",
       "      <th>2</th>\n",
       "      <td>Moons:</td>\n",
       "      <td>2</td>\n",
       "    </tr>\n",
       "    <tr>\n",
       "      <th>3</th>\n",
       "      <td>Distance from Sun:</td>\n",
       "      <td>227,943,824 km</td>\n",
       "    </tr>\n",
       "    <tr>\n",
       "      <th>4</th>\n",
       "      <td>Length of Year:</td>\n",
       "      <td>687 Earth days</td>\n",
       "    </tr>\n",
       "    <tr>\n",
       "      <th>5</th>\n",
       "      <td>Temperature:</td>\n",
       "      <td>-153 to 20 °C</td>\n",
       "    </tr>\n",
       "  </tbody>\n",
       "</table>\n",
       "</div>"
      ],
      "text/plain": [
       "          Mars Metric            Value\n",
       "0           Diameter:         6,779 km\n",
       "1               Mass:  6.39 × 10^23 kg\n",
       "2              Moons:                2\n",
       "3  Distance from Sun:   227,943,824 km\n",
       "4     Length of Year:   687 Earth days\n",
       "5        Temperature:    -153 to 20 °C"
      ]
     },
     "execution_count": 8,
     "metadata": {},
     "output_type": "execute_result"
    }
   ],
   "source": [
    "#scrape Mars facts table to pandas dataframe\n",
    "executable_path = {'executable_path':'./chromedriver.exe'}\n",
    "browser = Browser('chrome', **executable_path)\n",
    "browser.visit('https://space-facts.com/mars/')\n",
    "url='https://space-facts.com/mars/'\n",
    "tables = pd.read_html(url)\n",
    "mars_earth_frame = tables[0]\n",
    "mars_earth_frame\n",
    "\n",
    "mars_table = mars_earth_frame[['Mars - Earth Comparison', 'Mars']]\n",
    "mars_table = mars_table.rename(columns={\"Mars - Earth Comparison\": \"Mars Metric\", \"Mars\": \"Value\"})\n",
    "mars_table"
   ]
  },
  {
   "cell_type": "code",
   "execution_count": 9,
   "metadata": {},
   "outputs": [
    {
     "data": {
      "text/plain": [
       "'<table border=\"1\" class=\"dataframe\">\\n  <thead>\\n    <tr style=\"text-align: right;\">\\n      <th></th>\\n      <th>Mars Metric</th>\\n      <th>Value</th>\\n    </tr>\\n  </thead>\\n  <tbody>\\n    <tr>\\n      <th>0</th>\\n      <td>Diameter:</td>\\n      <td>6,779 km</td>\\n    </tr>\\n    <tr>\\n      <th>1</th>\\n      <td>Mass:</td>\\n      <td>6.39 × 10^23 kg</td>\\n    </tr>\\n    <tr>\\n      <th>2</th>\\n      <td>Moons:</td>\\n      <td>2</td>\\n    </tr>\\n    <tr>\\n      <th>3</th>\\n      <td>Distance from Sun:</td>\\n      <td>227,943,824 km</td>\\n    </tr>\\n    <tr>\\n      <th>4</th>\\n      <td>Length of Year:</td>\\n      <td>687 Earth days</td>\\n    </tr>\\n    <tr>\\n      <th>5</th>\\n      <td>Temperature:</td>\\n      <td>-153 to 20 °C</td>\\n    </tr>\\n  </tbody>\\n</table>'"
      ]
     },
     "execution_count": 9,
     "metadata": {},
     "output_type": "execute_result"
    }
   ],
   "source": [
    "mar_table_html = mars_table.to_html()\n",
    "mars_table.to_html(\"mars_table.html\")\n",
    "mar_table_html"
   ]
  },
  {
   "cell_type": "markdown",
   "metadata": {},
   "source": [
    "<h3>Mars Hemispheres</h3>"
   ]
  },
  {
   "cell_type": "code",
   "execution_count": 10,
   "metadata": {},
   "outputs": [],
   "source": [
    "#Harvest link text \n",
    "# URL of page to be scraped\n",
    "url = 'https://astrogeology.usgs.gov/search/results?q=hemisphere+enhanced&k1=target&v1=Mars'\n",
    "response = requests.get(url)\n",
    "soup = BeautifulSoup(response.text, 'lxml')"
   ]
  },
  {
   "cell_type": "code",
   "execution_count": 11,
   "metadata": {},
   "outputs": [
    {
     "data": {
      "text/plain": [
       "['Cerberus Hemisphere Enhanced',\n",
       " 'Schiaparelli Hemisphere Enhanced',\n",
       " 'Syrtis Major Hemisphere Enhanced',\n",
       " 'Valles Marineris Hemisphere Enhanced']"
      ]
     },
     "execution_count": 11,
     "metadata": {},
     "output_type": "execute_result"
    }
   ],
   "source": [
    "#get a list of hemispheres to iterate through\n",
    "\n",
    "results = soup.find_all('div', class_='item')\n",
    "hemispheres = []\n",
    "\n",
    "for result in results:\n",
    "    #hemisphere = result.find('a', class_='itemLink product-item')\n",
    "    hemisphere = result.find('h3')\n",
    "    hemispheres.append(hemisphere.text)\n",
    "\n",
    "hemispheres"
   ]
  },
  {
   "cell_type": "code",
   "execution_count": 12,
   "metadata": {},
   "outputs": [
    {
     "data": {
      "text/plain": [
       "['https://astrogeology.usgs.gov/cache/images/cfa62af2557222a02478f1fcd781d445_cerberus_enhanced.tif_full.jpg',\n",
       " 'https://astrogeology.usgs.gov/cache/images/3cdd1cbf5e0813bba925c9030d13b62e_schiaparelli_enhanced.tif_full.jpg',\n",
       " 'https://astrogeology.usgs.gov/cache/images/ae209b4e408bb6c3e67b6af38168cf28_syrtis_major_enhanced.tif_full.jpg',\n",
       " 'https://astrogeology.usgs.gov/cache/images/7cf2da4bf549ed01c17f206327be4db7_valles_marineris_enhanced.tif_full.jpg']"
      ]
     },
     "execution_count": 12,
     "metadata": {},
     "output_type": "execute_result"
    }
   ],
   "source": [
    "#click on the hemispheres to get a list of the image links\n",
    "executable_path = {'executable_path': 'chromedriver.exe'}\n",
    "#driver = webdriver.Chrome('./chromedriver.exe')\n",
    "url = 'https://astrogeology.usgs.gov/search/results?q=hemisphere+enhanced&k1=target&v1=Mars'\n",
    "img_urls = []\n",
    "\n",
    "for x in range (len(hemispheres)):\n",
    "    driver = webdriver.Chrome('./chromedriver.exe')\n",
    "    driver.get(url)\n",
    "    python_button = driver.find_element_by_link_text(hemispheres[x])\n",
    "    python_button.click()\n",
    "    time.sleep(2)\n",
    "    button = driver.find_element_by_xpath(\"//img[@class='wide-image']\").get_attribute(\"src\")\n",
    "    img_urls.append(button)\n",
    "    driver.quit()\n",
    "    time.sleep(2)\n",
    "\n",
    "img_urls"
   ]
  },
  {
   "cell_type": "code",
   "execution_count": 13,
   "metadata": {},
   "outputs": [
    {
     "data": {
      "text/plain": [
       "[{'title': 'Valles Marineris Hemisphere Enhanced',\n",
       "  'img_url': 'https://astrogeology.usgs.gov/cache/images/7cf2da4bf549ed01c17f206327be4db7_valles_marineris_enhanced.tif_full.jpg'},\n",
       " {'title': 'Valles Marineris Hemisphere Enhanced',\n",
       "  'img_url': 'https://astrogeology.usgs.gov/cache/images/7cf2da4bf549ed01c17f206327be4db7_valles_marineris_enhanced.tif_full.jpg'},\n",
       " {'title': 'Valles Marineris Hemisphere Enhanced',\n",
       "  'img_url': 'https://astrogeology.usgs.gov/cache/images/7cf2da4bf549ed01c17f206327be4db7_valles_marineris_enhanced.tif_full.jpg'},\n",
       " {'title': 'Valles Marineris Hemisphere Enhanced',\n",
       "  'img_url': 'https://astrogeology.usgs.gov/cache/images/7cf2da4bf549ed01c17f206327be4db7_valles_marineris_enhanced.tif_full.jpg'}]"
      ]
     },
     "execution_count": 13,
     "metadata": {},
     "output_type": "execute_result"
    }
   ],
   "source": [
    "hemisphere_image_urls = []\n",
    "hemi_dict = {}\n",
    "\n",
    "for x in range (len(hemispheres)):\n",
    "    hemi_dict['title'] = hemispheres[x]\n",
    "    hemi_dict['img_url'] = img_urls[x]\n",
    "    hemisphere_image_urls .append(hemi_dict)\n",
    "                                 \n",
    "hemisphere_image_urls "
   ]
  }
 ],
 "metadata": {
  "kernelspec": {
   "display_name": "Python 3",
   "language": "python",
   "name": "python3"
  },
  "language_info": {
   "codemirror_mode": {
    "name": "ipython",
    "version": 3
   },
   "file_extension": ".py",
   "mimetype": "text/x-python",
   "name": "python",
   "nbconvert_exporter": "python",
   "pygments_lexer": "ipython3",
   "version": "3.7.3"
  }
 },
 "nbformat": 4,
 "nbformat_minor": 2
}
