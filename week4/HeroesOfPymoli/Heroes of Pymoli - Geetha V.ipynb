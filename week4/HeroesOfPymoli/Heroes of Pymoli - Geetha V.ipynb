{
 "cells": [
  {
   "cell_type": "markdown",
   "metadata": {},
   "source": [
    "<HTML>\n",
    "    <head></head>\n",
    "<body background=\"Resources/silly.jpg\">\n",
    "    <center><H2>Heroes of Pygmoli HW 4</H2></center>\n",
    "    \n",
    "</body>\n",
    "    \n",
    "</HTML>"
   ]
  },
  {
   "attachments": {
    "DD.jpg": {
     "image/jpeg": "[encoded data removed]"
    }
   },
   "cell_type": "markdown",
   "metadata": {},
   "source": [
    "Congratulations! After a lot of hard work in the data munging mines, you've landed a job as Lead Analyst for an independent gaming company. You've been assigned the task of analyzing the data for their most recent fantasy game Heroes of Pymoli.\n",
    "\n",
    "Like many others in its genre, the game is free-to-play, but players are encouraged to purchase optional items that enhance their playing experience. As a first task, the company would like you to generate a report that breaks down the game's purchasing data into meaningful insights.\n",
    "\n",
    "![DD.jpg](attachment:DD.jpg)"
   ]
  },
  {
   "cell_type": "code",
   "execution_count": 149,
   "metadata": {},
   "outputs": [],
   "source": [
    "import numpy as np\n",
    "import pandas as pd"
   ]
  },
  {
   "cell_type": "markdown",
   "metadata": {},
   "source": [
    "\n",
    "### Player Count: \n",
    "Total Number of Players"
   ]
  },
  {
   "cell_type": "code",
   "execution_count": 161,
   "metadata": {},
   "outputs": [
    {
     "name": "stdout",
     "output_type": "stream",
     "text": [
      "Total Players: 576\n"
     ]
    }
   ],
   "source": [
    "purchase_frame = pd.read_csv(\"Resources/purchase_data.csv\", index_col = \"Purchase ID\")\n",
    "count_SN = purchase_frame[\"SN\"].nunique()\n",
    "print(\"Total Players: \" + str(count_SN))\n"
   ]
  },
  {
   "cell_type": "markdown",
   "metadata": {},
   "source": [
    "### Purchasing Analysis (Total)\n",
    "\n",
    "*  Number of Unique Items\n",
    "*  Average Purchase Price\n",
    "*  Total Number of Purchases\n",
    "*  Total Revenue\n"
   ]
  },
  {
   "cell_type": "code",
   "execution_count": 159,
   "metadata": {},
   "outputs": [],
   "source": [
    "count_IN = purchase_frame[\"Item Name\"].nunique()\n",
    "Total_Dollars = purchase_frame[\"Price\"].sum()\n",
    "Average_PP = round((Total_Dollars/count_IN), 2)\n",
    "Total_Purchases = purchase_frame[\"SN\"].count()"
   ]
  },
  {
   "cell_type": "code",
   "execution_count": 163,
   "metadata": {},
   "outputs": [
    {
     "data": {
      "text/html": [
       "<div>\n",
       "<style scoped>\n",
       "    .dataframe tbody tr th:only-of-type {\n",
       "        vertical-align: middle;\n",
       "    }\n",
       "\n",
       "    .dataframe tbody tr th {\n",
       "        vertical-align: top;\n",
       "    }\n",
       "\n",
       "    .dataframe thead th {\n",
       "        text-align: right;\n",
       "    }\n",
       "</style>\n",
       "<table border=\"1\" class=\"dataframe\">\n",
       "  <thead>\n",
       "    <tr style=\"text-align: right;\">\n",
       "      <th></th>\n",
       "      <th>No. Unique Items</th>\n",
       "      <th>Average Purchase Price</th>\n",
       "      <th>Total Number of Purchases</th>\n",
       "      <th>Total Revenue</th>\n",
       "    </tr>\n",
       "  </thead>\n",
       "  <tbody>\n",
       "    <tr>\n",
       "      <th>0</th>\n",
       "      <td>179</td>\n",
       "      <td>13.29</td>\n",
       "      <td>780</td>\n",
       "      <td>2379.77</td>\n",
       "    </tr>\n",
       "  </tbody>\n",
       "</table>\n",
       "</div>"
      ],
      "text/plain": [
       "   No. Unique Items  Average Purchase Price  Total Number of Purchases  \\\n",
       "0               179                   13.29                        780   \n",
       "\n",
       "   Total Revenue  \n",
       "0        2379.77  "
      ]
     },
     "execution_count": 163,
     "metadata": {},
     "output_type": "execute_result"
    }
   ],
   "source": [
    "summary_table = pd.DataFrame({\"No. Unique Items\": [count_IN] ,\n",
    "                              \"Average Purchase Price\": [Average_PP],\n",
    "                              \"Total Number of Purchases\": [Total_Purchases],\n",
    "                              \"Total Revenue\": [Total_Dollars]})\n",
    "summary_table"
   ]
  },
  {
   "cell_type": "markdown",
   "metadata": {},
   "source": [
    "### Purchasing Analysis (Gender)\n",
    "\n",
    "*  The below each broken by gender\n",
    "    *  Purchase Count\n",
    "    *  Average Purchase Price\n",
    "    *  Total Purchase Value\n",
    "    *  Average Purchase Total per Person by Gender\n"
   ]
  },
  {
   "cell_type": "code",
   "execution_count": 260,
   "metadata": {},
   "outputs": [],
   "source": [
    "gender_frame = purchase_frame.groupby(\"Gender\")[\"Item Name\"].count()\n",
    "fem_pc = gender_frame[\"Female\"]\n",
    "male_pc = gender_frame[\"Male\"]\n",
    "other_pc = gender_frame[\"Other / Non-Disclosed\"]\n",
    "\n",
    "gender_frame2 = purchase_frame.groupby(\"Gender\")[\"Price\"].sum()\n",
    "\n",
    "fem_tpv = gender_frame2[\"Female\"]\n",
    "male_tpv = gender_frame2[\"Male\"]\n",
    "other_tpv = gender_frame2[\"Other / Non-Disclosed\"]\n",
    "\n",
    "fem_app = round(fem_tpv/fem_pc, 2)\n",
    "male_app = round(male_tpv/male_pc, 2)\n",
    "other_app = round(other_tpv/other_pc, 2)\n",
    "\n",
    "gf3 = purchase_frame.groupby(['Gender','SN']).sum()[\"Price\"] \n",
    "gf4 = gf3.groupby(\"Gender\").mean()\n",
    "fem_app_pp = gf4[\"Female\"]\n",
    "male_app_pp = gf4[\"Male\"]\n",
    "other_app_pp = gf4[\"Other / Non-Disclosed\"]"
   ]
  },
  {
   "cell_type": "code",
   "execution_count": 265,
   "metadata": {},
   "outputs": [
    {
     "data": {
      "text/html": [
       "<div>\n",
       "<style scoped>\n",
       "    .dataframe tbody tr th:only-of-type {\n",
       "        vertical-align: middle;\n",
       "    }\n",
       "\n",
       "    .dataframe tbody tr th {\n",
       "        vertical-align: top;\n",
       "    }\n",
       "\n",
       "    .dataframe thead th {\n",
       "        text-align: right;\n",
       "    }\n",
       "</style>\n",
       "<table border=\"1\" class=\"dataframe\">\n",
       "  <thead>\n",
       "    <tr style=\"text-align: right;\">\n",
       "      <th></th>\n",
       "      <th>Metric Group</th>\n",
       "      <th>Purchase Count</th>\n",
       "      <th>Total Purchase Value</th>\n",
       "      <th>Purchase Price</th>\n",
       "      <th>Ave Purchase Price per Person</th>\n",
       "    </tr>\n",
       "  </thead>\n",
       "  <tbody>\n",
       "    <tr>\n",
       "      <th>0</th>\n",
       "      <td>Female</td>\n",
       "      <td>113</td>\n",
       "      <td>361.94</td>\n",
       "      <td>3.20</td>\n",
       "      <td>4.468395</td>\n",
       "    </tr>\n",
       "    <tr>\n",
       "      <th>0</th>\n",
       "      <td>Male</td>\n",
       "      <td>652</td>\n",
       "      <td>1967.64</td>\n",
       "      <td>3.02</td>\n",
       "      <td>4.065372</td>\n",
       "    </tr>\n",
       "    <tr>\n",
       "      <th>0</th>\n",
       "      <td>Other / Non-Disclosed</td>\n",
       "      <td>15</td>\n",
       "      <td>50.19</td>\n",
       "      <td>3.35</td>\n",
       "      <td>4.562727</td>\n",
       "    </tr>\n",
       "  </tbody>\n",
       "</table>\n",
       "</div>"
      ],
      "text/plain": [
       "            Metric Group  Purchase Count  Total Purchase Value  \\\n",
       "0                 Female             113                361.94   \n",
       "0                   Male             652               1967.64   \n",
       "0  Other / Non-Disclosed              15                 50.19   \n",
       "\n",
       "   Purchase Price  Ave Purchase Price per Person  \n",
       "0            3.20                       4.468395  \n",
       "0            3.02                       4.065372  \n",
       "0            3.35                       4.562727  "
      ]
     },
     "execution_count": 265,
     "metadata": {},
     "output_type": "execute_result"
    }
   ],
   "source": [
    "#Summary Table goes here\n",
    "fem_table = pd.DataFrame({\"Metric Group\": \"Female\",\n",
    "                          \"Purchase Count\": [fem_pc],\n",
    "                          \"Total Purchase Value\": [fem_tpv],\n",
    "                          \"Purchase Price\": [fem_app], \n",
    "                          \"Ave Purchase Price per Person\": [fem_app_pp]\n",
    "                         })\n",
    "\n",
    "male_table = pd.DataFrame({\"Metric Group\": \"Male\",\n",
    "                          \"Purchase Count\": [male_pc],\n",
    "                          \"Total Purchase Value\": [male_tpv],\n",
    "                          \"Purchase Price\": [male_app], \n",
    "                          \"Ave Purchase Price per Person\": [male_app_pp]})\n",
    "\n",
    "other_table = pd.DataFrame({\"Metric Group\": \"Other / Non-Disclosed\",\n",
    "                          \"Purchase Count\": [other_pc],\n",
    "                          \"Total Purchase Value\": [other_tpv],\n",
    "                          \"Purchase Price\": [other_app], \n",
    "                          \"Ave Purchase Price per Person\": [other_app_pp]})\n",
    "\n",
    "final = pd.concat([fem_table, male_table, other_table])\n",
    "final"
   ]
  },
  {
   "cell_type": "markdown",
   "metadata": {},
   "source": [
    "### Most Popular Items\n",
    "\n",
    "*  Identify the 5 most popular items by purchase count, then list (in a table):\n",
    "  *  Item ID\n",
    "  *  Item Name\n",
    "  *  Purchase Count\n",
    "  *  Item Price\n",
    "  *  Total Purchase Value"
   ]
  },
  {
   "cell_type": "code",
   "execution_count": 216,
   "metadata": {},
   "outputs": [
    {
     "data": {
      "text/html": [
       "<div>\n",
       "<style scoped>\n",
       "    .dataframe tbody tr th:only-of-type {\n",
       "        vertical-align: middle;\n",
       "    }\n",
       "\n",
       "    .dataframe tbody tr th {\n",
       "        vertical-align: top;\n",
       "    }\n",
       "\n",
       "    .dataframe thead th {\n",
       "        text-align: right;\n",
       "    }\n",
       "</style>\n",
       "<table border=\"1\" class=\"dataframe\">\n",
       "  <thead>\n",
       "    <tr style=\"text-align: right;\">\n",
       "      <th></th>\n",
       "      <th>Item ID</th>\n",
       "      <th>Item Name</th>\n",
       "      <th>purchase count</th>\n",
       "      <th>Price</th>\n",
       "      <th>Total Purchase Value</th>\n",
       "    </tr>\n",
       "  </thead>\n",
       "  <tbody>\n",
       "    <tr>\n",
       "      <th>26</th>\n",
       "      <td>178</td>\n",
       "      <td>Oathbreaker, Last Hope of the Breaking Storm</td>\n",
       "      <td>12</td>\n",
       "      <td>4.23</td>\n",
       "      <td>50.76</td>\n",
       "    </tr>\n",
       "    <tr>\n",
       "      <th>0</th>\n",
       "      <td>108</td>\n",
       "      <td>Extraction, Quickblade Of Trembling Hands</td>\n",
       "      <td>9</td>\n",
       "      <td>3.53</td>\n",
       "      <td>31.77</td>\n",
       "    </tr>\n",
       "    <tr>\n",
       "      <th>17</th>\n",
       "      <td>82</td>\n",
       "      <td>Nirvana</td>\n",
       "      <td>9</td>\n",
       "      <td>4.90</td>\n",
       "      <td>44.10</td>\n",
       "    </tr>\n",
       "    <tr>\n",
       "      <th>38</th>\n",
       "      <td>145</td>\n",
       "      <td>Fiery Glass Crusader</td>\n",
       "      <td>9</td>\n",
       "      <td>4.58</td>\n",
       "      <td>41.22</td>\n",
       "    </tr>\n",
       "    <tr>\n",
       "      <th>9</th>\n",
       "      <td>92</td>\n",
       "      <td>Final Critic</td>\n",
       "      <td>8</td>\n",
       "      <td>4.88</td>\n",
       "      <td>39.04</td>\n",
       "    </tr>\n",
       "  </tbody>\n",
       "</table>\n",
       "</div>"
      ],
      "text/plain": [
       "    Item ID                                     Item Name  purchase count  \\\n",
       "26      178  Oathbreaker, Last Hope of the Breaking Storm              12   \n",
       "0       108     Extraction, Quickblade Of Trembling Hands               9   \n",
       "17       82                                       Nirvana               9   \n",
       "38      145                          Fiery Glass Crusader               9   \n",
       "9        92                                  Final Critic               8   \n",
       "\n",
       "    Price  Total Purchase Value  \n",
       "26   4.23                 50.76  \n",
       "0    3.53                 31.77  \n",
       "17   4.90                 44.10  \n",
       "38   4.58                 41.22  \n",
       "9    4.88                 39.04  "
      ]
     },
     "execution_count": 216,
     "metadata": {},
     "output_type": "execute_result"
    }
   ],
   "source": [
    "desc_frame = purchase_frame[[\"Item ID\", \"Item Name\", \"Price\"]]\n",
    "desc_frame\n",
    "\n",
    "popular_frame = purchase_frame.groupby(\"Item ID\")[\"Item ID\"].count().sort_values(ascending=False).nlargest(5).reset_index(name='purchase count')\n",
    "popular_frame\n",
    "\n",
    "fm = pd.merge(desc_frame, popular_frame)\n",
    "fm = fm.drop_duplicates()\n",
    "fm\n",
    "\n",
    "tpv = fm[\"Price\"] * fm[\"purchase count\"]\n",
    "fm[\"Total Purchase Value\"] = tpv\n",
    "final_frame = fm[[\"Item ID\", \"Item Name\", \"purchase count\", \"Price\", \"Total Purchase Value\"]].sort_values(by=[\"purchase count\"], ascending=False)\n",
    "final_frame\n",
    "\n"
   ]
  },
  {
   "cell_type": "markdown",
   "metadata": {},
   "source": [
    "### Most Profitable Items\n",
    "\n",
    "*  Identify the 5 most profitable items by total purchase value, then list (in a table):\n",
    "  *  Item ID\n",
    "  *  Item Name\n",
    "  *  Purchase Count\n",
    "  *  Item Price\n",
    "  *  Total Purchase Value"
   ]
  },
  {
   "cell_type": "code",
   "execution_count": 268,
   "metadata": {},
   "outputs": [
    {
     "data": {
      "text/html": [
       "<div>\n",
       "<style scoped>\n",
       "    .dataframe tbody tr th:only-of-type {\n",
       "        vertical-align: middle;\n",
       "    }\n",
       "\n",
       "    .dataframe tbody tr th {\n",
       "        vertical-align: top;\n",
       "    }\n",
       "\n",
       "    .dataframe thead th {\n",
       "        text-align: right;\n",
       "    }\n",
       "</style>\n",
       "<table border=\"1\" class=\"dataframe\">\n",
       "  <thead>\n",
       "    <tr style=\"text-align: right;\">\n",
       "      <th></th>\n",
       "      <th>Item ID</th>\n",
       "      <th>Item Name</th>\n",
       "      <th>total purchase count</th>\n",
       "      <th>Price</th>\n",
       "      <th>total purchase value</th>\n",
       "    </tr>\n",
       "  </thead>\n",
       "  <tbody>\n",
       "    <tr>\n",
       "      <th>2</th>\n",
       "      <td>178</td>\n",
       "      <td>Oathbreaker, Last Hope of the Breaking Storm</td>\n",
       "      <td>12</td>\n",
       "      <td>4.23</td>\n",
       "      <td>50.76</td>\n",
       "    </tr>\n",
       "    <tr>\n",
       "      <th>1</th>\n",
       "      <td>82</td>\n",
       "      <td>Nirvana</td>\n",
       "      <td>9</td>\n",
       "      <td>4.90</td>\n",
       "      <td>44.10</td>\n",
       "    </tr>\n",
       "    <tr>\n",
       "      <th>3</th>\n",
       "      <td>145</td>\n",
       "      <td>Fiery Glass Crusader</td>\n",
       "      <td>9</td>\n",
       "      <td>4.58</td>\n",
       "      <td>41.22</td>\n",
       "    </tr>\n",
       "    <tr>\n",
       "      <th>0</th>\n",
       "      <td>92</td>\n",
       "      <td>Final Critic</td>\n",
       "      <td>8</td>\n",
       "      <td>4.88</td>\n",
       "      <td>39.04</td>\n",
       "    </tr>\n",
       "    <tr>\n",
       "      <th>4</th>\n",
       "      <td>103</td>\n",
       "      <td>Singed Scalpel</td>\n",
       "      <td>8</td>\n",
       "      <td>4.35</td>\n",
       "      <td>34.80</td>\n",
       "    </tr>\n",
       "  </tbody>\n",
       "</table>\n",
       "</div>"
      ],
      "text/plain": [
       "   Item ID                                     Item Name  \\\n",
       "2      178  Oathbreaker, Last Hope of the Breaking Storm   \n",
       "1       82                                       Nirvana   \n",
       "3      145                          Fiery Glass Crusader   \n",
       "0       92                                  Final Critic   \n",
       "4      103                                Singed Scalpel   \n",
       "\n",
       "   total purchase count  Price  total purchase value  \n",
       "2                    12   4.23                 50.76  \n",
       "1                     9   4.90                 44.10  \n",
       "3                     9   4.58                 41.22  \n",
       "0                     8   4.88                 39.04  \n",
       "4                     8   4.35                 34.80  "
      ]
     },
     "execution_count": 268,
     "metadata": {},
     "output_type": "execute_result"
    }
   ],
   "source": [
    "profitable_frame = purchase_frame.groupby(\"Item ID\")[\"Price\"].sum().sort_values(ascending=False).nlargest(5).reset_index(name='total purchase value')\n",
    "profitable_frame\n",
    "\n",
    "\n",
    "desc_frame = purchase_frame[[\"Item ID\", \"Item Name\", \"Price\"]]\n",
    "desc_frame\n",
    "\n",
    "pp_frame = purchase_frame.groupby(\"Item ID\")[\"Item ID\"].count().reset_index(name='total purchase count')\n",
    "pp_frame\n",
    "\n",
    "fm = pd.merge(desc_frame, profitable_frame)\n",
    "fm = fm.drop_duplicates()\n",
    "fm2 = pd.merge(fm, pp_frame)\n",
    "fm2\n",
    "\n",
    "final_frame = fm2[[\"Item ID\", \"Item Name\", \"total purchase count\", \"Price\", \"total purchase value\"]].sort_values(by=[\"total purchase value\"], ascending=False)\n",
    "final_frame"
   ]
  },
  {
   "cell_type": "markdown",
   "metadata": {},
   "source": [
    "#  Three Observable Trends\n",
    "\n",
    "*  Data Note-- there are multiple products with the same name (Final Critic) \n",
    "*  While females are a much smaller customer group, they spend more than males individually (perhaps female fans are fewer in number but a more eager customer base)\n",
    "*  Men spend the least per person compared to females and other/non-disclosed individuals\n",
    "*  Oathbreaker, Last Hope of the breaking Storm is both a top seller in numbers and a top earner in revenue generation"
   ]
  },
  {
   "cell_type": "code",
   "execution_count": null,
   "metadata": {},
   "outputs": [],
   "source": []
  }
 ],
 "metadata": {
  "kernelspec": {
   "display_name": "Python 3",
   "language": "python",
   "name": "python3"
  },
  "language_info": {
   "codemirror_mode": {
    "name": "ipython",
    "version": 3
   },
   "file_extension": ".py",
   "mimetype": "text/x-python",
   "name": "python",
   "nbconvert_exporter": "python",
   "pygments_lexer": "ipython3",
   "version": "3.7.3"
  }
 },
 "nbformat": 4,
 "nbformat_minor": 2
}
